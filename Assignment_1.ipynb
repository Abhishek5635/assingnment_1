{
  "nbformat": 4,
  "nbformat_minor": 0,
  "metadata": {
    "colab": {
      "provenance": []
    },
    "kernelspec": {
      "name": "python3",
      "display_name": "Python 3"
    },
    "language_info": {
      "name": "python"
    }
  },
  "cells": [
    {
      "cell_type": "markdown",
      "source": [
        "1. In the below elements which of them are values or an expression? eg:- values can be\n",
        "integer or string and expressions will be mathematical operators.\n",
        "*\n",
        "&#39;hello&#39;\n",
        "-87.8\n",
        "-\n",
        "/\n",
        "+\n",
        "6\n"
      ],
      "metadata": {
        "id": "iK-L012coj_9"
      }
    },
    {
      "cell_type": "code",
      "source": [
        "values = 'hello', -87.8, 6\n",
        "expression = *, -, /, +"
      ],
      "metadata": {
        "id": "hRDoFjEEo10-"
      },
      "execution_count": null,
      "outputs": []
    },
    {
      "cell_type": "markdown",
      "source": [
        "2. What is the difference between string and variable?"
      ],
      "metadata": {
        "id": "KjdnL0s7pX8q"
      }
    },
    {
      "cell_type": "code",
      "source": [
        "string : string is a datatype in python. It is made of sequence of charactor.\n",
        "         It is having single or double quotes in its syntax. \n",
        "\n",
        "veriable : veriable is container which able to hold a value of any datatype.\n",
        "           In a veriable string, interger, float these type of datatype value can be stored.\n",
        "           veriable can be updated and it can hold different value different time."
      ],
      "metadata": {
        "id": "knxQOGU0pWWG"
      },
      "execution_count": null,
      "outputs": []
    },
    {
      "cell_type": "markdown",
      "source": [
        "3. Describe three different data types."
      ],
      "metadata": {
        "id": "mLYDOu_brwHR"
      }
    },
    {
      "cell_type": "code",
      "source": [
        "integer : all the whole numbers are intger. integer can be possitive or negative\n",
        "          It is refered by the keyword int in python\n",
        "          eg. x = 28\n",
        "\n",
        "float   : all the decimal numbers comes under float. \n",
        "          float can be possitve or negative\n",
        "          float are built-in datatypes\n",
        "          pi = 3.14\n",
        "\n",
        "string : string is sequence of charactor.\n",
        "         string can be assinged to the veriable by using single or double quotes.\n",
        "         It is denoted by the keyword str.\n",
        "         name = \"abhishek\""
      ],
      "metadata": {
        "id": "raYIhcYDrzh_"
      },
      "execution_count": null,
      "outputs": []
    },
    {
      "cell_type": "markdown",
      "source": [
        "4. What is an expression made up of? What do all expressions do?"
      ],
      "metadata": {
        "id": "gcwPUB4qtscX"
      }
    },
    {
      "cell_type": "code",
      "source": [
        "expression : expression is a combination of operand and operator.\n",
        "             this expression are used to perform operation like assignment of veriable,\n",
        "             addition, multiplication, subtraction etc.\n",
        "             eg. x = 25 (assignment expression)\n",
        "                 a = x+28 (addition expression)\n",
        "\n",
        "expression use : 1) all expression return some value these value can be used to print on console\n",
        "                 2) expression can be used to assign a value to a veriable\n",
        "                 3) expression are used for calculation purpose"
      ],
      "metadata": {
        "id": "5OXTKlaSttpr"
      },
      "execution_count": null,
      "outputs": []
    },
    {
      "cell_type": "markdown",
      "source": [
        "5. This assignment statements, like spam = 10. What is the difference between an\n",
        "expression and a statement?"
      ],
      "metadata": {
        "id": "4YI-u0grxMMg"
      }
    },
    {
      "cell_type": "code",
      "source": [
        "statement : statement is a type of code which perform some sort of action\n",
        "            here spam = 10 \n",
        "            we are assingning the value 10 to veraible name spam\n",
        "\n",
        "expression : expression is a type of code which produces value.\n",
        "             In expresion it gives some result in the form of value.\n",
        "             eg. \"hello\" + \"world\" => this is expression which gives a value = \"helloworld\""
      ],
      "metadata": {
        "id": "XYeQdhsAyFPo"
      },
      "execution_count": null,
      "outputs": []
    },
    {
      "cell_type": "markdown",
      "source": [
        "6. After running the following code, what does the variable bacon contain?\n",
        "bacon = 22\n",
        "bacon + 1"
      ],
      "metadata": {
        "id": "mXNnFAh0zgJA"
      }
    },
    {
      "cell_type": "code",
      "source": [
        "bacon = 22\n",
        "bacon+1\n",
        "\n",
        "ans = after running the code the bacon will contain 22 \n",
        "      because we do not have assign the bacon as a veriable after the above operation.\n"
      ],
      "metadata": {
        "colab": {
          "base_uri": "https://localhost:8080/"
        },
        "id": "ECKOsY-xzi51",
        "outputId": "8ee95f68-0109-4a9b-90f7-446e6d5a0d62"
      },
      "execution_count": 2,
      "outputs": [
        {
          "output_type": "execute_result",
          "data": {
            "text/plain": [
              "23"
            ]
          },
          "metadata": {},
          "execution_count": 2
        }
      ]
    },
    {
      "cell_type": "markdown",
      "source": [
        "7. What should the values of the following two terms be?\n",
        "&#39;spam&#39; + &#39;spamspam&#39;\n",
        "&#39;spam&#39; * 3"
      ],
      "metadata": {
        "id": "U8BWMcxn1JZp"
      }
    },
    {
      "cell_type": "code",
      "source": [
        "1) \"spam\" +\" spamspam\" = \"spamspamspam\"\n",
        "\n",
        "2) \"spam\"*3 + \"spamspamspam\""
      ],
      "metadata": {
        "id": "QYolGn8xzpSE"
      },
      "execution_count": null,
      "outputs": []
    },
    {
      "cell_type": "markdown",
      "source": [
        "8. Why is eggs a valid variable name while 100 is invalid?"
      ],
      "metadata": {
        "id": "k1QFSYG31xj4"
      }
    },
    {
      "cell_type": "code",
      "source": [
        "because if we assign 100 as a veriable then it will violate the \n",
        "rule of python.\n",
        "\n",
        "rules : 1) veraible name can contain uppercase or lowercase letter\n",
        "        2) veriable shold not start with digit\n",
        "        3) veriable can contain underscore in its syntax"
      ],
      "metadata": {
        "id": "0CMRwg7y0iiU"
      },
      "execution_count": null,
      "outputs": []
    },
    {
      "cell_type": "markdown",
      "source": [
        "9. What three functions can be used to get the integer, floating-point number, or string\n",
        "version of a value?"
      ],
      "metadata": {
        "id": "of9q-rRX29DA"
      }
    },
    {
      "cell_type": "code",
      "source": [
        "1) int() : this int function is used to convert the value to integer\n",
        "           1) if the value is integer it will return it as integer\n",
        "           2) if the value is float it will return it as integer\n",
        "           3) if the value is string it will throw error because typecasting of string to integer is not possible\n",
        "\n",
        "2) float() : this function is used to convert the value to float\n",
        "           1) if the value is integer it will return it as float\n",
        "           2) if the value is float it will return it as float\n",
        "           3) if the value is string it will throw error because typecasting of string to integer is not possible\n",
        "          \n",
        "3) str() : this fuction is used to conver the value sting format\n",
        "           1) using this typecasting of intger, float is possible, but we cant use for that sting to furthur calculation\n",
        "           "
      ],
      "metadata": {
        "id": "EG6_dAZb3H-C"
      },
      "execution_count": null,
      "outputs": []
    },
    {
      "cell_type": "markdown",
      "source": [
        "10. Why does this expression cause an error? How can you fix it?\n",
        "&#39;I have eaten &#39; + 99 + &#39; burritos.&#39;"
      ],
      "metadata": {
        "id": "EbRtvRgb5Byy"
      }
    },
    {
      "cell_type": "code",
      "source": [
        "The above expression will show string to integer concatination error.\n",
        "In python language we cant add integer with string with typecasting of any of them\n",
        "\n",
        "fix:\n",
        "que:   'I have eaten' +99+'burritos'\n",
        "    \n",
        "    we will have to typecast 99 as string then we have to add it\n",
        "\n",
        "ans : 'I have eaten' + \"99\" + 'burritos'"
      ],
      "metadata": {
        "id": "3scfd5z55DjD"
      },
      "execution_count": null,
      "outputs": []
    }
  ]
}